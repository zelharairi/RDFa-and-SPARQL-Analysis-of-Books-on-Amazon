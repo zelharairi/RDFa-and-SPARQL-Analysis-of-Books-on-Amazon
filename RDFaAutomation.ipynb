{
 "cells": [
  {
   "cell_type": "code",
   "execution_count": 49,
   "metadata": {},
   "outputs": [],
   "source": [
    "import csv\n",
    "\n",
    "# Open the CSV file\n",
    "with open('final_book_dataset_kaggle2.csv', newline='') as csvfile:\n",
    "    # Create a CSV reader object\n",
    "    csvreader = csv.reader(csvfile)\n",
    "    \n",
    "    with open('output5.txt', 'w') as txtfile:\n",
    "        next(csvreader)\n",
    "        i = 0\n",
    "    # Loop over each row in the CSV file\n",
    "        for row in csvreader:\n",
    "        # Print the value in the first column of each row\n",
    "            if \";\" in row[-4] and \"(\" in row[-4]:\n",
    "                txtfile.write('\\n<div typeof=\"Book\" resource=\"'+str(i+1)+'\">\\n\\t\\t<h1><span property=\"name\">'+row[0]+'</span></h1>\\n\\t<div>Author: <span property=\"author\">'+row[1][1:-2]+'</span></div>\\n\\t\\t<div>Language: <span property=\"inLanguage\">'+row[-5]+'</span></div>\\n\\t\\t<div>ISBN <span property=\"isbn\">'+row[-3]+'</span></div>\\n\\t\\t<div>Publisher <span property=\"publisher\">'+row[-4].split(\";\")[0]+'</span></div>\\n\\t\\t<div>Date Published <span property=\"datePublished\">'+row[-4].split(\";\")[1].split(\"(\")[1][0:-1]+'</span></div>\\n\\t\\t<div>Number of Pages <span property=\"numberOfPages\">'+row[4]+'</span></div>\\n\\t\\t<div>Average rating on Amazon <span property=\"contentRating\">'+row[5]+'</span></div>\\n\\t\\t<div>Book Edition <span property=\"bookEdition\">'+row[-4].split(\";\")[1].split(\"(\")[0]+'</span></div>\\n</div>')\n",
    "            elif \";\" in row[-4]:\n",
    "                txtfile.write('\\n<div typeof=\"Book\" resource=\"'+str(i+1)+'\">\\n\\t\\t<h1><span property=\"name\">'+row[0]+'</span></h1>\\n\\t<div>Author: <span property=\"author\">'+row[1][1:-2]+'</span></div>\\n\\t\\t<div>Language: <span property=\"inLanguage\">'+row[-5]+'</span></div>\\n\\t\\t<div>ISBN <span property=\"isbn\">'+row[-3]+'</span></div>\\n\\t\\t<div>Publisher <span property=\"publisher\">'+row[-4].split(\";\")[0]+'</span></div>\\n\\t\\t<div>Date Published <span property=\"datePublished\"></span></div>\\n\\t\\t<div>Number of Pages <span property=\"numberOfPages\">'+row[4]+'</span></div>\\n\\t\\t<div>Average rating on Amazon <span property=\"contentRating\">'+row[5]+'</span></div>\\n\\t\\t<div>Book Edition <span property=\"bookEdition\">'+row[-4].split(\";\")[1].split(\"(\")[0]+'</span></div>\\n</div>')\n",
    "            elif '(' in row[-4]:\n",
    "                txtfile.write('\\n<div typeof=\"Book\" resource=\"'+str(i+1)+'\">\\n\\t\\t<h1><span property=\"name\">'+row[0]+'</span></h1>\\n\\t<div>Author: <span property=\"author\">'+row[1][1:-2]+'</span></div>\\n\\t\\t<div>Language: <span property=\"inLanguage\">'+row[-5]+'</span></div>\\n\\t\\t<div>ISBN <span property=\"isbn\">'+row[-3]+'</span></div>\\n\\t\\t<div>Publisher <span property=\"publisher\">'+row[-4].split(\"(\")[0]+'</span></div>\\n\\t\\t<div>Date Published <span property=\"datePublished\">'+row[-4].split(\"(\")[1][0:-1]+'</span></div>\\n\\t\\t<div>Number of Pages <span property=\"numberOfPages\">'+row[4]+'</span></div>\\n\\t\\t<div>Average rating on Amazon <span property=\"contentRating\">'+row[5]+'</span></div>\\n\\t\\t<div>Book Edition <span property=\"bookEdition\"></span></div>\\n</div>')\n",
    "            else:\n",
    "                txtfile.write('\\n<div typeof=\"Book\" resource=\"'+str(i+1)+'\">\\n\\t\\t<h1><span property=\"name\">'+row[0]+'</span></h1>\\n\\t<div>Author: <span property=\"author\">'+row[1][1:-2]+'</span></div>\\n\\t\\t<div>Language: <span property=\"inLanguage\">'+row[-5]+'</span></div>\\n\\t\\t<div>ISBN <span property=\"isbn\">'+row[-3]+'</span></div>\\n\\t\\t<div>Publisher <span property=\"publisher\">'+row[-4].split(\";\")[0]+'</span></div>\\n\\t\\t<div>Date Published <span property=\"datePublished\"></span></div>\\n\\t\\t<div>Number of Pages <span property=\"numberOfPages\">'+row[4]+'</span></div>\\n\\t\\t<div>Average rating on Amazon <span property=\"contentRating\">'+row[5]+'</span></div>\\n\\t\\t<div>Book Edition <span property=\"bookEdition\"></span></div>\\n</div>')\n",
    "            i=i+1\n",
    "            if i == 50:\n",
    "                break"
   ]
  }
 ],
 "metadata": {
  "kernelspec": {
   "display_name": "Python 3",
   "language": "python",
   "name": "python3"
  },
  "language_info": {
   "codemirror_mode": {
    "name": "ipython",
    "version": 3
   },
   "file_extension": ".py",
   "mimetype": "text/x-python",
   "name": "python",
   "nbconvert_exporter": "python",
   "pygments_lexer": "ipython3",
   "version": "3.9.6"
  }
 },
 "nbformat": 4,
 "nbformat_minor": 2
}
